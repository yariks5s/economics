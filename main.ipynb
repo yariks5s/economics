{
 "cells": [
  {
   "attachments": {},
   "cell_type": "markdown",
   "metadata": {},
   "source": [
    "## Приклад 1\n"
   ]
  },
  {
   "cell_type": "code",
   "execution_count": 1,
   "metadata": {},
   "outputs": [],
   "source": [
    "import numpy as np"
   ]
  },
  {
   "attachments": {},
   "cell_type": "markdown",
   "metadata": {},
   "source": [
    "Вхідні дані"
   ]
  },
  {
   "cell_type": "code",
   "execution_count": 2,
   "metadata": {},
   "outputs": [],
   "source": [
    "# Промисловість\n",
    "industry1 = 820 #x11\n",
    "industry2 = 450 #x12\n",
    "\n",
    "demand_industry = 970 #y1\n",
    "\n",
    "# повний випуск x1\n",
    "release_industry = industry1 + industry2 + demand_industry\n",
    "\n",
    "# Сільське господарство\n",
    "agriculture1 = 350 #x21\n",
    "agriculture2 = 400 #x22\n",
    "\n",
    "demand_agriculture = 750 #y2\n",
    "\n",
    "# повний випуск x2\n",
    "release_agriculture = agriculture1 + agriculture2 + demand_agriculture"
   ]
  },
  {
   "cell_type": "code",
   "execution_count": 3,
   "metadata": {},
   "outputs": [],
   "source": [
    "# прогноз випуску\n",
    "predicted_industry = 1150\n",
    "predicted_agriculture = 700"
   ]
  },
  {
   "cell_type": "code",
   "execution_count": 4,
   "metadata": {},
   "outputs": [
    {
     "data": {
      "text/plain": [
       "array([[0.36607143, 0.3       ],\n",
       "       [0.15625   , 0.26666667]])"
      ]
     },
     "execution_count": 4,
     "metadata": {},
     "output_type": "execute_result"
    }
   ],
   "source": [
    "# Знаходимо технологічну матрицю\n",
    "A = np.array([[industry1 / release_industry, industry2 / release_agriculture],\n",
    "              [agriculture1 / release_industry, agriculture2 / release_agriculture]])\n",
    "\n",
    "A"
   ]
  },
  {
   "attachments": {},
   "cell_type": "markdown",
   "metadata": {},
   "source": [
    "Вектор прогнозованого попиту\n"
   ]
  },
  {
   "cell_type": "code",
   "execution_count": 5,
   "metadata": {},
   "outputs": [
    {
     "data": {
      "text/plain": [
       "array([[1150],\n",
       "       [ 700]])"
      ]
     },
     "execution_count": 5,
     "metadata": {},
     "output_type": "execute_result"
    }
   ],
   "source": [
    "c = np.array([[predicted_industry], [predicted_agriculture]])\n",
    "c"
   ]
  },
  {
   "attachments": {},
   "cell_type": "markdown",
   "metadata": {},
   "source": [
    "Одинична матриця 2х2"
   ]
  },
  {
   "cell_type": "code",
   "execution_count": 6,
   "metadata": {},
   "outputs": [
    {
     "data": {
      "text/plain": [
       "array([[1., 0.],\n",
       "       [0., 1.]])"
      ]
     },
     "execution_count": 6,
     "metadata": {},
     "output_type": "execute_result"
    }
   ],
   "source": [
    "E = np.eye(2)\n",
    "E"
   ]
  },
  {
   "attachments": {},
   "cell_type": "markdown",
   "metadata": {},
   "source": [
    "Розрахуємо матрицю повних витрат"
   ]
  },
  {
   "cell_type": "code",
   "execution_count": 7,
   "metadata": {},
   "outputs": [
    {
     "data": {
      "text/plain": [
       "array([[1.75436098, 0.71769313],\n",
       "       [0.3737985 , 1.51655393]])"
      ]
     },
     "execution_count": 7,
     "metadata": {},
     "output_type": "execute_result"
    }
   ],
   "source": [
    "B = np.linalg.inv(np.subtract(E, A))\n",
    "B"
   ]
  },
  {
   "cell_type": "code",
   "execution_count": 8,
   "metadata": {},
   "outputs": [
    {
     "name": "stdout",
     "output_type": "stream",
     "text": [
      "Результуюча матриця вийшла: \n",
      "([2519.9003204])\n",
      "([1491.45603418])\n"
     ]
    }
   ],
   "source": [
    "x = np.dot(B, c)\n",
    "print(f\"Результуюча матриця вийшла: \\n({x[0]})\\n({x[1]})\")"
   ]
  },
  {
   "attachments": {},
   "cell_type": "markdown",
   "metadata": {},
   "source": [
    "## Приклад 2"
   ]
  },
  {
   "cell_type": "code",
   "execution_count": 9,
   "metadata": {},
   "outputs": [
    {
     "data": {
      "text/plain": [
       "array([[0.1, 0.5, 0.1],\n",
       "       [0.3, 0.2, 0.1],\n",
       "       [0.3, 0.1, 0.4]])"
      ]
     },
     "execution_count": 9,
     "metadata": {},
     "output_type": "execute_result"
    }
   ],
   "source": [
    "A = np.array([[0.1, 0.5, 0.1], [0.3, 0.2, 0.1], [0.3, 0.1, 0.4]])\n",
    "A"
   ]
  },
  {
   "attachments": {},
   "cell_type": "markdown",
   "metadata": {},
   "source": [
    "обчислення власних чисел за допомогою сторонніх бібліотек"
   ]
  },
  {
   "cell_type": "code",
   "execution_count": 10,
   "metadata": {},
   "outputs": [
    {
     "data": {
      "text/plain": [
       "array([-0.23748703,  0.68572156,  0.25176547])"
      ]
     },
     "execution_count": 10,
     "metadata": {},
     "output_type": "execute_result"
    }
   ],
   "source": [
    "eig_val, eig_vec = np.linalg.eig(A)\n",
    "eig_val"
   ]
  },
  {
   "attachments": {},
   "cell_type": "markdown",
   "metadata": {},
   "source": [
    "обчислення власних чисел вручну без бібліотек"
   ]
  },
  {
   "cell_type": "code",
   "execution_count": 11,
   "metadata": {},
   "outputs": [
    {
     "data": {
      "text/plain": [
       "[-0.237487028183629 + 0.e-23*I,\n",
       " 0.251765465158031 + 0.e-23*I,\n",
       " 0.685721563025597 - 0.e-23*I]"
      ]
     },
     "execution_count": 11,
     "metadata": {},
     "output_type": "execute_result"
    }
   ],
   "source": [
    "from sympy import symbols, solve, Matrix\n",
    "\n",
    "# Define the symbol for lambda\n",
    "lambda_symbol = symbols('λ')\n",
    "\n",
    "# Define the matrix A - λI\n",
    "A_lambda_I = np.array([\n",
    "    [0.1 - lambda_symbol, 0.5, 0.1],\n",
    "    [0.3, 0.2 - lambda_symbol, 0.1],\n",
    "    [0.3, 0.1, 0.4 - lambda_symbol]\n",
    "])\n",
    "\n",
    "# Calculate the determinant of A - λI\n",
    "determinant = (\n",
    "    (A_lambda_I[0,0] * ((A_lambda_I[1,1] * A_lambda_I[2,2]) - (A_lambda_I[1,2] * A_lambda_I[2,1]))) -\n",
    "    (A_lambda_I[0,1] * ((A_lambda_I[1,0] * A_lambda_I[2,2]) - (A_lambda_I[1,2] * A_lambda_I[2,0]))) +\n",
    "    (A_lambda_I[0,2] * ((A_lambda_I[1,0] * A_lambda_I[2,1]) - (A_lambda_I[1,1] * A_lambda_I[2,0])))\n",
    ")\n",
    "\n",
    "# Solve the characteristic equation det(A - λI) = 0 for λ\n",
    "eigenvalue_solutions = solve(determinant, lambda_symbol)\n",
    "eigenvalue_solutions"
   ]
  },
  {
   "attachments": {},
   "cell_type": "markdown",
   "metadata": {},
   "source": [
    "Обрахування характеристичного поліному за допомогою сторонніх бібліотек:"
   ]
  },
  {
   "cell_type": "code",
   "execution_count": 12,
   "metadata": {},
   "outputs": [
    {
     "name": "stdout",
     "output_type": "stream",
     "text": [
      "Характеристичний поліном: PurePoly(1.0*λ**3 - 0.7*λ**2 - 0.05*λ + 0.041, λ, domain='RR'), \n",
      "коефіцієнти: [1.00000000000000, -0.700000000000000, -0.0500000000000000, 0.0410000000000000]\n"
     ]
    }
   ],
   "source": [
    "# Define the symbol for lambda\n",
    "lambda_symbol = symbols('λ')\n",
    "\n",
    "# Define the matrix A\n",
    "A_matrix = Matrix([\n",
    "    [0.1, 0.5, 0.1],\n",
    "    [0.3, 0.2, 0.1],\n",
    "    [0.3, 0.1, 0.4]\n",
    "])\n",
    "\n",
    "# Get the characteristic polynomial of matrix A\n",
    "char_poly = A_matrix.charpoly(lambda_symbol)\n",
    "\n",
    "# Get the coefficients of the characteristic polynomial\n",
    "char_poly_coeffs = char_poly.all_coeffs()\n",
    "char_poly_coeffs\n",
    "print(f\"Характеристичний поліном: {char_poly}, \\nкоефіцієнти: {char_poly_coeffs}\")"
   ]
  },
  {
   "attachments": {},
   "cell_type": "markdown",
   "metadata": {},
   "source": [
    "Обрахування характеристичного поліному вручну, без бібліотек:"
   ]
  },
  {
   "cell_type": "code",
   "execution_count": 13,
   "metadata": {},
   "outputs": [
    {
     "data": {
      "text/plain": [
       "(1, -0.7000000000000001, -0.04999999999999999, 0.041)"
      ]
     },
     "execution_count": 13,
     "metadata": {},
     "output_type": "execute_result"
    }
   ],
   "source": [
    "# Function to calculate the trace of the matrix (sum of diagonal elements)\n",
    "def trace(matrix):\n",
    "    return sum(matrix[i][i] for i in range(len(matrix)))\n",
    "\n",
    "# Function to calculate the determinant of a 3x3 matrix\n",
    "def determinant_3x3(matrix):\n",
    "    return (\n",
    "        matrix[0][0] * (matrix[1][1] * matrix[2][2] - matrix[1][2] * matrix[2][1]) -\n",
    "        matrix[0][1] * (matrix[1][0] * matrix[2][2] - matrix[1][2] * matrix[2][0]) +\n",
    "        matrix[0][2] * (matrix[1][0] * matrix[2][1] - matrix[1][1] * matrix[2][0])\n",
    "    )\n",
    "\n",
    "# Calculate the trace (a_2)\n",
    "a_2 = trace(A)\n",
    "\n",
    "# Calculate the determinant (a_0)\n",
    "a_0 = determinant_3x3(A)\n",
    "\n",
    "# Calculate the coefficient a_1, we subtract the sum of the products of pairs of the matrix's off-diagonal entries\n",
    "# in each 2x2 principal minor from the sum of the products of pairs of the matrix's diagonal entries.\n",
    "a_1 = (\n",
    "    (A[0][0]*A[1][1] + A[0][0]*A[2][2] + A[1][1]*A[2][2]) - \n",
    "    (A[0][1]*A[1][0] + A[0][2]*A[2][0] + A[1][2]*A[2][1])\n",
    ")\n",
    "\n",
    "# Since the leading coefficient is 1, the characteristic polynomial can be represented as:\n",
    "# λ^3 - a_2*λ^2 + a_1*λ - a_0 = 0\n",
    "# We return the coefficients in descending order of λ powers\n",
    "(1, -a_2, a_1, -a_0)"
   ]
  },
  {
   "attachments": {},
   "cell_type": "markdown",
   "metadata": {},
   "source": [
    "число Фробеніуса-найбільше власне значення по модулю, тобто:"
   ]
  },
  {
   "cell_type": "code",
   "execution_count": 14,
   "metadata": {},
   "outputs": [
    {
     "data": {
      "text/plain": [
       "0.6857215630255973"
      ]
     },
     "execution_count": 14,
     "metadata": {},
     "output_type": "execute_result"
    }
   ],
   "source": [
    "Frobenius_num = max(abs(eig_val))\n",
    "Frobenius_num"
   ]
  },
  {
   "attachments": {},
   "cell_type": "markdown",
   "metadata": {},
   "source": [
    "Щодо продуктивності матриці, що матриця А є продуктивною бо число Фробеніуса < 1\n"
   ]
  },
  {
   "attachments": {},
   "cell_type": "markdown",
   "metadata": {},
   "source": [
    "Правий та лівий вектори"
   ]
  },
  {
   "cell_type": "code",
   "execution_count": 20,
   "metadata": {},
   "outputs": [
    {
     "name": "stdout",
     "output_type": "stream",
     "text": [
      "Власні числа матриці A\n",
      "[-0.23748703+0.j  0.68572156+0.j  0.25176547+0.j]\n"
     ]
    }
   ],
   "source": [
    "import scipy\n",
    "eig_values, eig_left_vectors, eig_vectors = scipy.linalg.eig(A, right = True, left = True)\n",
    "index = 1\n",
    "print(\"Власні числа матриці A\")\n",
    "print(f\"{eig_values}\")\n"
   ]
  },
  {
   "cell_type": "code",
   "execution_count": 23,
   "metadata": {},
   "outputs": [
    {
     "name": "stdout",
     "output_type": "stream",
     "text": [
      "Правий вектор Фробеніуса[[0.52205684]\n",
      " [0.46909495]\n",
      " [0.71232477]]\n",
      "Лівий вектор Фробеніуса [[0.57785145]\n",
      " [0.68589885]\n",
      " [0.44230134]]\n"
     ]
    }
   ],
   "source": [
    "# eigenvalues, _ = np.linalg.eig(A)\n",
    "\n",
    "def complexto_real(x):\n",
    "    if x.imag == 0:\n",
    "        return x.real\n",
    "    else:\n",
    "        return x\n",
    "\n",
    "def complexto_real_vector(vector):\n",
    "    if (vector[0] < 0):\n",
    "        vector = vector * (-1)\n",
    "    isReal = True\n",
    "    for val in vector:\n",
    "        if val.imag != 0:\n",
    "            isReal = False\n",
    "            break\n",
    "    if isReal:\n",
    "        return vector.real\n",
    "    else:\n",
    "        return vector\n",
    "\n",
    "# print(\"Число Фробеніуса:\")\n",
    "frobenius_value = max(eig_values, key = lambda x: abs(x))\n",
    "frobenius_value = complexto_real(frobenius_value)\n",
    "# print(f\"{frobenius_value}\")\n",
    "\n",
    "right_frobenius_vector = eig_vectors[:, eig_values == frobenius_value]\n",
    "right_frobenius_vector = complexto_real_vector(right_frobenius_vector)\n",
    "print(f\"Правий вектор Фробеніуса{right_frobenius_vector}\")\n",
    "\n",
    "_, eig_left_vectors = np.linalg.eig(A.T)\n",
    "left_frobenius_vector = eig_left_vectors[:, eig_values == frobenius_value]\n",
    "left_frobenius_vector = complexto_real_vector(left_frobenius_vector)\n",
    "print(f\"Лівий вектор Фробеніуса {left_frobenius_vector}\")"
   ]
  },
  {
   "attachments": {},
   "cell_type": "markdown",
   "metadata": {},
   "source": [
    "##### Матриця повних витрат"
   ]
  },
  {
   "attachments": {},
   "cell_type": "markdown",
   "metadata": {},
   "source": [
    "Матриця повних витрат B для деякої матриці A розраховується як сума ряду:\n",
    "\n",
    "B = E + A + A**2 + ...\n",
    "\n",
    "Цей ряд збігається, якщо спектральний радіус матриці A менший за 1, що гарантує, що ефекти від додаткових \"поколінь\" витрат (потужностей A) стають все меншими і врешті решт прямують до нуля.\n",
    "\n",
    "Математично, якщо ряд сходиться, то матриця повних витрат B може бути виражена як:\n",
    "\n",
    "B = (E - A) ^ -1\n"
   ]
  },
  {
   "attachments": {},
   "cell_type": "markdown",
   "metadata": {},
   "source": [
    "Дослідимо на збіжність дану послідовність"
   ]
  },
  {
   "cell_type": "code",
   "execution_count": 74,
   "metadata": {},
   "outputs": [
    {
     "data": {
      "text/plain": [
       "(array([[1.60406508, 1.0521698 , 0.43827352],\n",
       "        [0.71171584, 1.74078624, 0.4047677 ],\n",
       "        [0.91275075, 0.80683752, 1.94721692]]),\n",
       " 11,\n",
       " True)"
      ]
     },
     "execution_count": 74,
     "metadata": {},
     "output_type": "execute_result"
    }
   ],
   "source": [
    "from numpy.linalg import matrix_power \n",
    "\n",
    "# Визначаємо поріг збіжності для елементів матриці\n",
    "convergence_threshold = 0.01\n",
    "\n",
    "# Ініціалізуємо початкову суму з одиничною матрицею того ж розміру, що й A\n",
    "current_sum = np.eye(A.shape[0])\n",
    "iteration = 0\n",
    "max_iterations = 1000000\n",
    "converged = False\n",
    "\n",
    "while (not converged or iteration >= max_iterations):\n",
    "    # Обчислюємо наступну ступінь матриці A (A^n)\n",
    "    next_power = matrix_power(A, iteration + 1)\n",
    "    \n",
    "    # Додаємо ступінь матриці до поточної суми\n",
    "    new_sum = current_sum + next_power\n",
    "    iteration += 1\n",
    "\n",
    "    # Перевіряємо, чи різниця між новою сумою і поточною сумою менше порогу для всіх елементів\n",
    "    if np.all(np.abs(new_sum - current_sum) < convergence_threshold):\n",
    "        converged = True\n",
    "    current_sum = new_sum\n",
    "\n",
    "# Виводимо результат\n",
    "current_sum, iteration, converged"
   ]
  },
  {
   "attachments": {},
   "cell_type": "markdown",
   "metadata": {},
   "source": [
    "Внаслідок наближення маємо матрицю повних витрат В\n"
   ]
  },
  {
   "attachments": {},
   "cell_type": "markdown",
   "metadata": {},
   "source": [
    "Вектор цін, якщо вектор доданої вартості буде (0.3 0.4 0.5) буде мати вигляд\n",
    "\n",
    "p = sB"
   ]
  },
  {
   "cell_type": "code",
   "execution_count": 76,
   "metadata": {},
   "outputs": [
    {
     "data": {
      "text/plain": [
       "array([1.22228123, 1.41538419, 1.2669976 ])"
      ]
     },
     "execution_count": 76,
     "metadata": {},
     "output_type": "execute_result"
    }
   ],
   "source": [
    "new_vec = np.array([0.3, 0.4, 0.5])\n",
    "p = np.dot(new_vec, current_sum)\n",
    "p"
   ]
  },
  {
   "attachments": {},
   "cell_type": "markdown",
   "metadata": {},
   "source": [
    "Отже, маємо вектор цін, враховуючи вектор доданої вартості"
   ]
  }
 ],
 "metadata": {
  "kernelspec": {
   "display_name": "Python 3",
   "language": "python",
   "name": "python3"
  },
  "language_info": {
   "codemirror_mode": {
    "name": "ipython",
    "version": 3
   },
   "file_extension": ".py",
   "mimetype": "text/x-python",
   "name": "python",
   "nbconvert_exporter": "python",
   "pygments_lexer": "ipython3",
   "version": "3.10.12"
  },
  "orig_nbformat": 4
 },
 "nbformat": 4,
 "nbformat_minor": 2
}
